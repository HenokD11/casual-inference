{
 "cells": [
  {
   "cell_type": "markdown",
   "metadata": {},
   "source": [
    "### casual inference model\n",
    "\n",
    "\n",
    "* Content\n",
    "\n",
    "    * Structure from Domain Knowledge\n",
    "    * Visualise the learned Structure Model\n",
    "        * Plotting the Structure Model\n",
    "        * Remove edges below threshold\n",
    "        * Retrieve the largest subgraph\n",
    "        * Targeted subgraph\n",
    "    * Features Extracted From the Graph\n",
    "    * Jaccard Similarity (stability)\n",
    "        * Half of the Data\n",
    "        * Using Full Data\n",
    "\n"
   ]
  },
  {
   "cell_type": "code",
   "execution_count": 88,
   "metadata": {},
   "outputs": [],
   "source": [
    "# importing important modules\n",
    "from causalnex.structure import StructureModel\n",
    "from causalnex.structure.notears import from_pandas\n",
    "from causalnex.plots import plot_structure, NODE_STYLE, EDGE_STYLE\n",
    "from IPython.display import Image\n",
    "from sklearn.ensemble import RandomForestRegressor\n",
    "from sklearn.pipeline import Pipeline\n",
    "from sklearn.metrics import mean_squared_error\n",
    "from sklearn.preprocessing import MinMaxScaler\n",
    "import mlflow\n",
    "import logging,os\n",
    "from sklearn.model_selection import train_test_split\n",
    "from causalnex.network import BayesianNetwork\n",
    "from causalnex.evaluation import classification_report,roc_auc\n",
    "from causalnex.inference import InferenceEngine\n",
    "import pandas as pd\n",
    "import numpy as np"
   ]
  },
  {
   "cell_type": "code",
   "execution_count": 77,
   "metadata": {},
   "outputs": [],
   "source": [
    "data = pd.read_csv('../data/merged_data.csv')"
   ]
  },
  {
   "cell_type": "markdown",
   "metadata": {},
   "source": [
    "#### Structure from Domain Knowledge"
   ]
  },
  {
   "cell_type": "code",
   "execution_count": 11,
   "metadata": {},
   "outputs": [],
   "source": [
    "# Creating an empty Structural Model\n",
    "sm = StructureModel()"
   ]
  },
  {
   "cell_type": "code",
   "execution_count": 12,
   "metadata": {},
   "outputs": [
    {
     "data": {
      "text/plain": [
       "OutEdgeView([])"
      ]
     },
     "execution_count": 12,
     "metadata": {},
     "output_type": "execute_result"
    }
   ],
   "source": [
    "sm.edges"
   ]
  },
  {
   "cell_type": "markdown",
   "metadata": {},
   "source": [
    "#### Visualise the learned Structure Model"
   ]
  },
  {
   "cell_type": "code",
   "execution_count": 93,
   "metadata": {},
   "outputs": [],
   "source": [
    "train, test = train_test_split(data, train_size=0.75, test_size=0.25, random_state=10)"
   ]
  },
  {
   "cell_type": "code",
   "execution_count": 73,
   "metadata": {},
   "outputs": [],
   "source": [
    "sample_20 = train.sample(frac=0.2, random_state=42)"
   ]
  },
  {
   "cell_type": "code",
   "execution_count": 74,
   "metadata": {},
   "outputs": [],
   "source": [
    "# Plotting the Structure Model\n",
    "node_attributes = {\n",
    "    \"diagnosis\": { \n",
    "        \"shape\": \"star\",\n",
    "        \"style\": \"filled\",\n",
    "        \"width\": 0.6,\n",
    "        \"penwidth\": \"1\", \n",
    "        \"color\": \"#4a90e2d9\",\n",
    "        \"orientation\": 25, \n",
    "    },\n",
    "    \"fontsize\": 0.1\n",
    "}\n",
    "\n",
    "graph_attributes = {\n",
    "    \"scale\": \"1\",\n",
    "    \"size\": 5,\n",
    "    \"label\": \"Breast Cancer Causality model\",\n",
    "    \"fontcolor\": \"#FFFFFFD9\",\n",
    "    \"fontname\": \"Helvetica\",\n",
    "    \"fontsize\": 25, # font size of the graph title\n",
    "    \"dpi\": 200,  # resolution\n",
    "    \"labeljust\": \"l\",  # left\n",
    "    \"labelloc\": \"t\",  # top\n",
    "}\n",
    "\n",
    "def plot_sm_graph(sm):\n",
    "    viz = plot_structure(\n",
    "            sm,\n",
    "            graph_attributes={\"scale\": \"2.0\", \"size\": 3.5},\n",
    "            all_node_attributes=NODE_STYLE.WEAK,\n",
    "            all_edge_attributes=EDGE_STYLE.WEAK,\n",
    "        )\n",
    "    return Image(viz.draw(format=\"png\"))"
   ]
  },
  {
   "cell_type": "code",
   "execution_count": null,
   "metadata": {},
   "outputs": [],
   "source": [
    "sm = from_pandas(train)\n",
    "\n",
    "plot_sm_graph(sm)"
   ]
  },
  {
   "cell_type": "markdown",
   "metadata": {},
   "source": [
    "#### Plotting the Structure Model"
   ]
  },
  {
   "cell_type": "code",
   "execution_count": null,
   "metadata": {},
   "outputs": [],
   "source": [
    "# Plotting the Structure Model\n",
    "viz = plot_structure(\n",
    "    train,\n",
    "    prog=\"circo\",\n",
    "    graph_attributes=graph_attributes,\n",
    "    node_attributes=node_attributes,\n",
    "    all_edge_attributes=EDGE_STYLE.WEAK)\n",
    "    \n",
    "Image(viz.draw(format='png'))"
   ]
  },
  {
   "cell_type": "markdown",
   "metadata": {},
   "source": [
    "#### Remove edges below threshold"
   ]
  },
  {
   "cell_type": "code",
   "execution_count": null,
   "metadata": {},
   "outputs": [
    {
     "data": {
      "text/plain": [
       "id                       0\n",
       "order_id                 0\n",
       "driver_id                0\n",
       "lat                      0\n",
       "lng                      0\n",
       "Trip ID                  0\n",
       "duration                 0\n",
       "Trip_Origin_lat          0\n",
       "Trip_Origin_long         0\n",
       "Trip_Destination_lat     0\n",
       "Trip_Destination_long    0\n",
       "distance                 0\n",
       "pilot_distance           0\n",
       "dtype: int64"
      ]
     },
     "execution_count": 71,
     "metadata": {},
     "output_type": "execute_result"
    }
   ],
   "source": [
    "sm.remove_edges_below_threshold(0.8)\n",
    "# Plotting the Structure Model\n",
    "viz = plot_structure(\n",
    "    train,\n",
    "    prog=\"circo\",\n",
    "    graph_attributes=graph_attributes,\n",
    "    node_attributes=node_attributes,\n",
    "    all_edge_attributes=EDGE_STYLE.WEAK)\n",
    "    \n",
    "Image(viz.draw(format='png'))"
   ]
  },
  {
   "cell_type": "markdown",
   "metadata": {},
   "source": [
    "#### Retrieve the largest subgraph"
   ]
  },
  {
   "cell_type": "code",
   "execution_count": 70,
   "metadata": {},
   "outputs": [],
   "source": [
    "## retrieve the largest subgraph easily by calling the StructureModel function get_largest_subgraph().\n",
    "sm = sm.get_largest_subgraph()\n",
    "viz = plot_structure(\n",
    "    train,\n",
    "    prog=\"circo\",\n",
    "    graph_attributes=graph_attributes,\n",
    "    node_attributes=node_attributes,\n",
    "    all_edge_attributes=EDGE_STYLE.WEAK)\n",
    "Image(viz.draw(format='png'))"
   ]
  },
  {
   "cell_type": "markdown",
   "metadata": {},
   "source": [
    "#### Features Extracted From the Graph"
   ]
  },
  {
   "cell_type": "code",
   "execution_count": null,
   "metadata": {},
   "outputs": [],
   "source": [
    "edges = list(target.edges())\n",
    "feature_extraction = []\n",
    "for start,end in edges:\n",
    "    if(end == 'driver_id'):\n",
    "        feature_extraction.append(start)\n",
    "feature_extraction"
   ]
  },
  {
   "cell_type": "markdown",
   "metadata": {},
   "source": [
    "#### Modeling"
   ]
  },
  {
   "cell_type": "markdown",
   "metadata": {},
   "source": [
    "#### Random Forest"
   ]
  },
  {
   "cell_type": "code",
   "execution_count": 82,
   "metadata": {},
   "outputs": [],
   "source": [
    "data['fulfilled'] = False"
   ]
  },
  {
   "cell_type": "code",
   "execution_count": 83,
   "metadata": {},
   "outputs": [],
   "source": [
    "data['fulfilled'] = np.where((data['order_id'] == data['Trip ID']) & (data['driver_action'] == 'accepted'),True,data['fulfilled'])"
   ]
  },
  {
   "cell_type": "code",
   "execution_count": 84,
   "metadata": {},
   "outputs": [],
   "source": [
    "fulfill_map = {0: \"No\", 1: \"Yes\"}\n",
    "data[\"fulfilled\"] = data[\"fulfilled\"].map(fulfill_map)"
   ]
  },
  {
   "cell_type": "code",
   "execution_count": 85,
   "metadata": {},
   "outputs": [],
   "source": [
    "driver_action_map = {0: \"accept\", 1: \"reject\"}\n",
    "data[\"driver_action\"] = data[\"driver_action\"].map(driver_action_map)"
   ]
  },
  {
   "cell_type": "code",
   "execution_count": 89,
   "metadata": {},
   "outputs": [
    {
     "name": "stderr",
     "output_type": "stream",
     "text": [
      "2022/10/24 00:14:02 INFO mlflow.tracking.fluent: Experiment with name 'Random Forest Regressor' does not exist. Creating a new experiment.\n"
     ]
    },
    {
     "data": {
      "text/plain": [
       "<Experiment: artifact_location='file:///C:/Users/hp/casual-inference/notebooks/mlruns/1', experiment_id='1', lifecycle_stage='active', name='Random Forest Regressor', tags={}>"
      ]
     },
     "execution_count": 89,
     "metadata": {},
     "output_type": "execute_result"
    }
   ],
   "source": [
    "logging.basicConfig(filename='../logs/log.log', filemode='a',encoding='utf-8', level=logging.DEBUG)\n",
    "mlflow.set_experiment(\"Random Forest Regressor\")"
   ]
  },
  {
   "cell_type": "code",
   "execution_count": 90,
   "metadata": {},
   "outputs": [],
   "source": [
    "mlflow.log_param('Model', 'Random Forest Regressor')"
   ]
  },
  {
   "cell_type": "code",
   "execution_count": 94,
   "metadata": {},
   "outputs": [],
   "source": [
    "x_train = train.drop(columns=['fulfilled','driver_action'])\n",
    "y_train = train['fulfilled']\n",
    "x_test = test.drop(columns=['fulfilled','driver_action'])\n",
    "y_test = test['fulfilled']"
   ]
  },
  {
   "cell_type": "code",
   "execution_count": 96,
   "metadata": {},
   "outputs": [],
   "source": [
    "n_estimators = 35\n",
    "max_depth=20\n",
    "random_state=5\n",
    "pipeline = Pipeline(steps = [('preprocessor', MinMaxScaler()),('model',RandomForestRegressor(n_estimators = n_estimators,max_depth=max_depth, random_state=random_state))])\n",
    "mlflow.log_param('Number of estimators',n_estimators)\n",
    "mlflow.log_param('Max depth',max_depth)\n",
    "mlflow.log_param('Random state',random_state)"
   ]
  },
  {
   "cell_type": "code",
   "execution_count": null,
   "metadata": {},
   "outputs": [],
   "source": [
    "random_forest_model = pipeline.fit(x_train, y_train)"
   ]
  },
  {
   "cell_type": "code",
   "execution_count": null,
   "metadata": {},
   "outputs": [],
   "source": [
    "Score = random_forest_model.score(x_test, y_test)\n",
    "y_pred= random_forest_model.predict(x_test)\n",
    "report = str(data.columns)\n",
    "mse = mean_squared_error(y_test, y_pred)"
   ]
  },
  {
   "cell_type": "code",
   "execution_count": null,
   "metadata": {},
   "outputs": [],
   "source": [
    "print(\"Score\",Score,\"\\n\",\"Mean Squared Error\",mse)"
   ]
  },
  {
   "cell_type": "code",
   "execution_count": null,
   "metadata": {},
   "outputs": [],
   "source": []
  }
 ],
 "metadata": {
  "kernelspec": {
   "display_name": "Python 3.8.10 64-bit",
   "language": "python",
   "name": "python3"
  },
  "language_info": {
   "codemirror_mode": {
    "name": "ipython",
    "version": 3
   },
   "file_extension": ".py",
   "mimetype": "text/x-python",
   "name": "python",
   "nbconvert_exporter": "python",
   "pygments_lexer": "ipython3",
   "version": "3.8.10"
  },
  "orig_nbformat": 4,
  "vscode": {
   "interpreter": {
    "hash": "892b1dbae191cb403baa4bf29e539705d2bb168fb9a756bde180b5b738f682b9"
   }
  }
 },
 "nbformat": 4,
 "nbformat_minor": 2
}

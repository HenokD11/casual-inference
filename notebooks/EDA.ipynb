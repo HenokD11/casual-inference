{
 "cells": [
  {
   "cell_type": "code",
   "execution_count": 1,
   "metadata": {},
   "outputs": [],
   "source": [
    "import dvc.api\n",
    "import sys\n",
    "#importing the libraries\n",
    "import numpy as np\n",
    "import matplotlib.pyplot as plt\n",
    "import numpy as np\n",
    "import pandas as pd\n",
    "from scipy import stats\n",
    "import plotly.express as px\n",
    "import seaborn as sns\n",
    "sns.set()\n",
    "import matplotlib.pyplot as plt\n",
    "%matplotlib inline\n",
    "from sklearn import preprocessing\n",
    "import plotly.graph_objects as go\n",
    "import warnings\n",
    "warnings.filterwarnings(\"ignore\")"
   ]
  },
  {
   "cell_type": "code",
   "execution_count": 2,
   "metadata": {},
   "outputs": [],
   "source": [
    "# importing script modules from ../scripts\n",
    "# Adding scripts path\n",
    "import sys, os\n",
    "sys.path.insert(0, '../scripts/')\n",
    "from data_preprocessing import data_preProcessing_script\n",
    "from cleaner import DataCleaner\n",
    "from exploratory import exploration"
   ]
  },
  {
   "cell_type": "code",
   "execution_count": 3,
   "metadata": {},
   "outputs": [],
   "source": [
    "def get_data(path,repo,version):\n",
    "    data_url = dvc.api.get_url(\n",
    "    path=path,\n",
    "    repo=repo,\n",
    "    rev=version\n",
    "    )\n",
    "    df = pd.read_csv(data_url)\n",
    "    return df"
   ]
  },
  {
   "cell_type": "markdown",
   "metadata": {},
   "source": [
    "#### Load Data"
   ]
  },
  {
   "cell_type": "code",
   "execution_count": null,
   "metadata": {},
   "outputs": [],
   "source": [
    "driver_location_data = get_data('data/driver_locations_during_request.csv','C:/Users/User/hp/Causal-Inference','driver_locations_during_request_v1')\n",
    "nb_data = get_data('data/nb.csv','C:/Users/User/hp/Causal-Inference','nb_v1')"
   ]
  },
  {
   "cell_type": "code",
   "execution_count": 5,
   "metadata": {},
   "outputs": [
    {
     "name": "stdout",
     "output_type": "stream",
     "text": [
      "<class 'pandas.core.frame.DataFrame'>\n",
      "RangeIndex: 1557740 entries, 0 to 1557739\n",
      "Data columns (total 8 columns):\n",
      " #   Column         Non-Null Count    Dtype  \n",
      "---  ------         --------------    -----  \n",
      " 0   id             1557740 non-null  int64  \n",
      " 1   order_id       1557740 non-null  int64  \n",
      " 2   driver_id      1557740 non-null  int64  \n",
      " 3   driver_action  1557740 non-null  object \n",
      " 4   lat            1557740 non-null  float64\n",
      " 5   lng            1557740 non-null  float64\n",
      " 6   created_at     0 non-null        float64\n",
      " 7   updated_at     0 non-null        float64\n",
      "dtypes: float64(4), int64(3), object(1)\n",
      "memory usage: 95.1+ MB\n"
     ]
    }
   ],
   "source": [
    "preprocess = data_preProcessing_script(driver_location_data)\n",
    "preprocess.show_data_information()"
   ]
  },
  {
   "cell_type": "code",
   "execution_count": 6,
   "metadata": {},
   "outputs": [
    {
     "name": "stdout",
     "output_type": "stream",
     "text": [
      "<class 'pandas.core.frame.DataFrame'>\n",
      "RangeIndex: 536020 entries, 0 to 536019\n",
      "Data columns (total 5 columns):\n",
      " #   Column            Non-Null Count   Dtype \n",
      "---  ------            --------------   ----- \n",
      " 0   Trip ID           536020 non-null  int64 \n",
      " 1   Trip Origin       536020 non-null  object\n",
      " 2   Trip Destination  536020 non-null  object\n",
      " 3   Trip Start Time   534369 non-null  object\n",
      " 4   Trip End Time     536019 non-null  object\n",
      "dtypes: int64(1), object(4)\n",
      "memory usage: 20.4+ MB\n"
     ]
    }
   ],
   "source": [
    "preprocess = data_preProcessing_script(nb_data)\n",
    "preprocess.show_data_information()"
   ]
  },
  {
   "cell_type": "code",
   "execution_count": 7,
   "metadata": {},
   "outputs": [
    {
     "name": "stdout",
     "output_type": "stream",
     "text": [
      "unique column values\n"
     ]
    },
    {
     "data": {
      "text/plain": [
       "id               1557740\n",
       "lat               194406\n",
       "lng               170385\n",
       "order_id           26492\n",
       "driver_id           1213\n",
       "driver_action          2\n",
       "created_at             1\n",
       "updated_at             1\n",
       "dtype: int64"
      ]
     },
     "execution_count": 7,
     "metadata": {},
     "output_type": "execute_result"
    }
   ],
   "source": [
    "print('unique column values')\n",
    "driver_location_data.apply(lambda x: len(x.unique())).sort_values(ascending=False).head(10)"
   ]
  },
  {
   "cell_type": "code",
   "execution_count": 8,
   "metadata": {},
   "outputs": [
    {
     "name": "stdout",
     "output_type": "stream",
     "text": [
      "unique column values\n"
     ]
    },
    {
     "data": {
      "text/plain": [
       "Trip ID             536020\n",
       "Trip End Time       513855\n",
       "Trip Start Time     512517\n",
       "Trip Destination    147520\n",
       "Trip Origin         112142\n",
       "dtype: int64"
      ]
     },
     "execution_count": 8,
     "metadata": {},
     "output_type": "execute_result"
    }
   ],
   "source": [
    "print('unique column values')\n",
    "nb_data.apply(lambda x: len(x.unique())).sort_values(ascending=False).head(10)"
   ]
  },
  {
   "cell_type": "markdown",
   "metadata": {},
   "source": [
    "#### Missing Value Manipulation"
   ]
  },
  {
   "cell_type": "code",
   "execution_count": 9,
   "metadata": {},
   "outputs": [
    {
     "data": {
      "text/plain": [
       "['Trip Start Time', 'Trip End Time']"
      ]
     },
     "execution_count": 9,
     "metadata": {},
     "output_type": "execute_result"
    }
   ],
   "source": [
    "preprocess.colums_WithMissingValue()"
   ]
  },
  {
   "cell_type": "code",
   "execution_count": 10,
   "metadata": {},
   "outputs": [
    {
     "data": {
      "text/html": [
       "<div>\n",
       "<style scoped>\n",
       "    .dataframe tbody tr th:only-of-type {\n",
       "        vertical-align: middle;\n",
       "    }\n",
       "\n",
       "    .dataframe tbody tr th {\n",
       "        vertical-align: top;\n",
       "    }\n",
       "\n",
       "    .dataframe thead th {\n",
       "        text-align: right;\n",
       "    }\n",
       "</style>\n",
       "<table border=\"1\" class=\"dataframe\">\n",
       "  <thead>\n",
       "    <tr style=\"text-align: right;\">\n",
       "      <th></th>\n",
       "      <th>total_missing_values</th>\n",
       "      <th>missing_percentage</th>\n",
       "    </tr>\n",
       "  </thead>\n",
       "  <tbody>\n",
       "    <tr>\n",
       "      <th>Trip ID</th>\n",
       "      <td>0</td>\n",
       "      <td>0.0 %</td>\n",
       "    </tr>\n",
       "    <tr>\n",
       "      <th>Trip Origin</th>\n",
       "      <td>0</td>\n",
       "      <td>0.0 %</td>\n",
       "    </tr>\n",
       "    <tr>\n",
       "      <th>Trip Destination</th>\n",
       "      <td>0</td>\n",
       "      <td>0.0 %</td>\n",
       "    </tr>\n",
       "    <tr>\n",
       "      <th>Trip Start Time</th>\n",
       "      <td>1651</td>\n",
       "      <td>0.31 %</td>\n",
       "    </tr>\n",
       "    <tr>\n",
       "      <th>Trip End Time</th>\n",
       "      <td>1</td>\n",
       "      <td>0.0 %</td>\n",
       "    </tr>\n",
       "  </tbody>\n",
       "</table>\n",
       "</div>"
      ],
      "text/plain": [
       "                  total_missing_values missing_percentage\n",
       "Trip ID                              0              0.0 %\n",
       "Trip Origin                          0              0.0 %\n",
       "Trip Destination                     0              0.0 %\n",
       "Trip Start Time                   1651             0.31 %\n",
       "Trip End Time                        1              0.0 %"
      ]
     },
     "execution_count": 10,
     "metadata": {},
     "output_type": "execute_result"
    }
   ],
   "source": [
    "preprocess.get_column_based_missing_percentage()"
   ]
  },
  {
   "cell_type": "code",
   "execution_count": 11,
   "metadata": {},
   "outputs": [
    {
     "data": {
      "text/plain": [
       "Text(0, 0.5, 'Features')"
      ]
     },
     "execution_count": 11,
     "metadata": {},
     "output_type": "execute_result"
    },
    {
     "data": {
      "image/png": "[encoded data removed]",
      "text/plain": [
       "<Figure size 504x432 with 1 Axes>"
      ]
     },
     "metadata": {
      "needs_background": "light"
     },
     "output_type": "display_data"
    }
   ],
   "source": [
    "cols_with_missing = driver_location_data.isnull().sum()\n",
    "cols_with_missing = cols_with_missing[cols_with_missing>0]\n",
    "cols_with_missing.sort_values(inplace=True)\n",
    "fig, ax = plt.subplots(figsize=(7,6))  \n",
    "width = 0.70 # the width of the bars \n",
    "ind = np.arange(len(cols_with_missing))  # the x locations for the groups\n",
    "ax.barh(ind, cols_with_missing, width, color=\"green\")\n",
    "ax.set_yticks(ind+width/2)\n",
    "ax.set_yticklabels(cols_with_missing.index, minor=False)\n",
    "plt.xlabel('Count')\n",
    "plt.ylabel('Features') "
   ]
  },
  {
   "cell_type": "code",
   "execution_count": 12,
   "metadata": {},
   "outputs": [],
   "source": [
    "driver_location_data.drop([\"updated_at\"], axis=1, inplace=True)"
   ]
  },
  {
   "cell_type": "code",
   "execution_count": 13,
   "metadata": {},
   "outputs": [
    {
     "data": {
      "text/plain": [
       "['Trip Start Time', 'Trip End Time']"
      ]
     },
     "execution_count": 13,
     "metadata": {},
     "output_type": "execute_result"
    }
   ],
   "source": [
    "preprocess.colums_WithMissingValue()"
   ]
  },
  {
   "cell_type": "markdown",
   "metadata": {},
   "source": [
    "#### Data Wrangling"
   ]
  },
  {
   "cell_type": "code",
   "execution_count": 14,
   "metadata": {},
   "outputs": [
    {
     "data": {
      "text/plain": [
       "Trip ID              int64\n",
       "Trip Origin         object\n",
       "Trip Destination    object\n",
       "Trip Start Time     object\n",
       "Trip End Time       object\n",
       "dtype: object"
      ]
     },
     "execution_count": 14,
     "metadata": {},
     "output_type": "execute_result"
    }
   ],
   "source": [
    "preprocess.show_datatypes()"
   ]
  },
  {
   "cell_type": "code",
   "execution_count": 15,
   "metadata": {},
   "outputs": [
    {
     "name": "stdout",
     "output_type": "stream",
     "text": [
      "Shapes of our datasets\n",
      "-----------------------\n",
      "Training dataset:(1557740, 7)\n"
     ]
    }
   ],
   "source": [
    "#Knowing the shapes of our datasets\n",
    "print('Shapes of our datasets')\n",
    "print('-----------------------')\n",
    "print(f'Training dataset:{driver_location_data.shape}')"
   ]
  },
  {
   "cell_type": "code",
   "execution_count": 16,
   "metadata": {},
   "outputs": [
    {
     "name": "stdout",
     "output_type": "stream",
     "text": [
      "Shapes of our datasets\n",
      "-----------------------\n",
      "Training dataset:(536020, 5)\n"
     ]
    }
   ],
   "source": [
    "#Knowing the shapes of our datasets\n",
    "print('Shapes of our datasets')\n",
    "print('-----------------------')\n",
    "print(f'Training dataset:{nb_data.shape}')"
   ]
  },
  {
   "cell_type": "code",
   "execution_count": 17,
   "metadata": {},
   "outputs": [
    {
     "data": {
      "text/html": [
       "<div>\n",
       "<style scoped>\n",
       "    .dataframe tbody tr th:only-of-type {\n",
       "        vertical-align: middle;\n",
       "    }\n",
       "\n",
       "    .dataframe tbody tr th {\n",
       "        vertical-align: top;\n",
       "    }\n",
       "\n",
       "    .dataframe thead th {\n",
       "        text-align: right;\n",
       "    }\n",
       "</style>\n",
       "<table border=\"1\" class=\"dataframe\">\n",
       "  <thead>\n",
       "    <tr style=\"text-align: right;\">\n",
       "      <th></th>\n",
       "      <th>Trip ID</th>\n",
       "    </tr>\n",
       "  </thead>\n",
       "  <tbody>\n",
       "    <tr>\n",
       "      <th>count</th>\n",
       "      <td>5.360200e+05</td>\n",
       "    </tr>\n",
       "    <tr>\n",
       "      <th>mean</th>\n",
       "      <td>9.910221e+05</td>\n",
       "    </tr>\n",
       "    <tr>\n",
       "      <th>std</th>\n",
       "      <td>3.456364e+05</td>\n",
       "    </tr>\n",
       "    <tr>\n",
       "      <th>min</th>\n",
       "      <td>3.919960e+05</td>\n",
       "    </tr>\n",
       "    <tr>\n",
       "      <th>25%</th>\n",
       "      <td>6.935610e+05</td>\n",
       "    </tr>\n",
       "    <tr>\n",
       "      <th>50%</th>\n",
       "      <td>9.910085e+05</td>\n",
       "    </tr>\n",
       "    <tr>\n",
       "      <th>75%</th>\n",
       "      <td>1.281570e+06</td>\n",
       "    </tr>\n",
       "    <tr>\n",
       "      <th>max</th>\n",
       "      <td>1.637709e+06</td>\n",
       "    </tr>\n",
       "  </tbody>\n",
       "</table>\n",
       "</div>"
      ],
      "text/plain": [
       "            Trip ID\n",
       "count  5.360200e+05\n",
       "mean   9.910221e+05\n",
       "std    3.456364e+05\n",
       "min    3.919960e+05\n",
       "25%    6.935610e+05\n",
       "50%    9.910085e+05\n",
       "75%    1.281570e+06\n",
       "max    1.637709e+06"
      ]
     },
     "execution_count": 17,
     "metadata": {},
     "output_type": "execute_result"
    }
   ],
   "source": [
    "preprocess.show_data_description()"
   ]
  },
  {
   "cell_type": "code",
   "execution_count": 18,
   "metadata": {},
   "outputs": [],
   "source": [
    "preprocess.drop_duplicates()"
   ]
  },
  {
   "cell_type": "code",
   "execution_count": 19,
   "metadata": {},
   "outputs": [
    {
     "data": {
      "text/html": [
       "<style type=\"text/css\">\n",
       "#T_54fab_row0_col1 {\n",
       "  width: 10em;\n",
       "  height: 80%;\n",
       "  background: linear-gradient(90deg,#205ff2 100.0%, transparent 100.0%);\n",
       "}\n",
       "#T_54fab_row0_col2 {\n",
       "  background-color: #67000d;\n",
       "  color: #f1f1f1;\n",
       "}\n",
       "#T_54fab_row0_col5 {\n",
       "  background-color: #b40426;\n",
       "  color: #f1f1f1;\n",
       "}\n",
       "#T_54fab_row1_col1 {\n",
       "  width: 10em;\n",
       "  height: 80%;\n",
       "  background: linear-gradient(90deg,#205ff2 53.8%, transparent 53.8%);\n",
       "}\n",
       "#T_54fab_row1_col2 {\n",
       "  background-color: #fff0e8;\n",
       "  color: #000000;\n",
       "}\n",
       "#T_54fab_row1_col5 {\n",
       "  background-color: #e7d7ce;\n",
       "  color: #000000;\n",
       "}\n",
       "#T_54fab_row2_col1 {\n",
       "  width: 10em;\n",
       "  height: 80%;\n",
       "  background: linear-gradient(90deg,#205ff2 30.1%, transparent 30.1%);\n",
       "}\n",
       "#T_54fab_row2_col2 {\n",
       "  background-color: #ffede5;\n",
       "  color: #000000;\n",
       "}\n",
       "#T_54fab_row2_col5 {\n",
       "  background-color: #a3c2fe;\n",
       "  color: #000000;\n",
       "}\n",
       "#T_54fab_row3_col1 {\n",
       "  width: 10em;\n",
       "  height: 80%;\n",
       "  background: linear-gradient(90deg,#205ff2 0.0%, transparent 0.0%);\n",
       "}\n",
       "#T_54fab_row3_col2, #T_54fab_row4_col2 {\n",
       "  background-color: #fff5f0;\n",
       "  color: #000000;\n",
       "}\n",
       "#T_54fab_row3_col5, #T_54fab_row4_col5 {\n",
       "  background-color: #3b4cc0;\n",
       "  color: #f1f1f1;\n",
       "}\n",
       "#T_54fab_row4_col1 {\n",
       "  width: 10em;\n",
       "  height: 80%;\n",
       "}\n",
       "#T_54fab_row5_col2, #T_54fab_row5_col5 {\n",
       "  background-color: #000000;\n",
       "  color: #f1f1f1;\n",
       "}\n",
       "</style>\n",
       "<table id=\"T_54fab_\">\n",
       "  <thead>\n",
       "    <tr>\n",
       "      <th class=\"blank level0\" >&nbsp;</th>\n",
       "      <th class=\"col_heading level0 col0\" >count</th>\n",
       "      <th class=\"col_heading level0 col1\" >mean</th>\n",
       "      <th class=\"col_heading level0 col2\" >std</th>\n",
       "      <th class=\"col_heading level0 col3\" >min</th>\n",
       "      <th class=\"col_heading level0 col4\" >25%</th>\n",
       "      <th class=\"col_heading level0 col5\" >50%</th>\n",
       "      <th class=\"col_heading level0 col6\" >75%</th>\n",
       "      <th class=\"col_heading level0 col7\" >max</th>\n",
       "    </tr>\n",
       "  </thead>\n",
       "  <tbody>\n",
       "    <tr>\n",
       "      <th id=\"T_54fab_level0_row0\" class=\"row_heading level0 row0\" >id</th>\n",
       "      <td id=\"T_54fab_row0_col0\" class=\"data row0 col0\" >1557740.000000</td>\n",
       "      <td id=\"T_54fab_row0_col1\" class=\"data row0 col1\" >778870.500000</td>\n",
       "      <td id=\"T_54fab_row0_col2\" class=\"data row0 col2\" >449680.948501</td>\n",
       "      <td id=\"T_54fab_row0_col3\" class=\"data row0 col3\" >1.000000</td>\n",
       "      <td id=\"T_54fab_row0_col4\" class=\"data row0 col4\" >389435.750000</td>\n",
       "      <td id=\"T_54fab_row0_col5\" class=\"data row0 col5\" >778870.500000</td>\n",
       "      <td id=\"T_54fab_row0_col6\" class=\"data row0 col6\" >1168305.250000</td>\n",
       "      <td id=\"T_54fab_row0_col7\" class=\"data row0 col7\" >1557740.000000</td>\n",
       "    </tr>\n",
       "    <tr>\n",
       "      <th id=\"T_54fab_level0_row1\" class=\"row_heading level0 row1\" >order_id</th>\n",
       "      <td id=\"T_54fab_row1_col0\" class=\"data row1 col0\" >1557740.000000</td>\n",
       "      <td id=\"T_54fab_row1_col1\" class=\"data row1 col1\" >419183.325677</td>\n",
       "      <td id=\"T_54fab_row1_col2\" class=\"data row1 col2\" >14445.310018</td>\n",
       "      <td id=\"T_54fab_row1_col3\" class=\"data row1 col3\" >392001.000000</td>\n",
       "      <td id=\"T_54fab_row1_col4\" class=\"data row1 col4\" >406765.000000</td>\n",
       "      <td id=\"T_54fab_row1_col5\" class=\"data row1 col5\" >421687.000000</td>\n",
       "      <td id=\"T_54fab_row1_col6\" class=\"data row1 col6\" >429313.000000</td>\n",
       "      <td id=\"T_54fab_row1_col7\" class=\"data row1 col7\" >517948.000000</td>\n",
       "    </tr>\n",
       "    <tr>\n",
       "      <th id=\"T_54fab_level0_row2\" class=\"row_heading level0 row2\" >driver_id</th>\n",
       "      <td id=\"T_54fab_row2_col0\" class=\"data row2 col0\" >1557740.000000</td>\n",
       "      <td id=\"T_54fab_row2_col1\" class=\"data row2 col1\" >234150.494470</td>\n",
       "      <td id=\"T_54fab_row2_col2\" class=\"data row2 col2\" >22704.754768</td>\n",
       "      <td id=\"T_54fab_row2_col3\" class=\"data row2 col3\" >121981.000000</td>\n",
       "      <td id=\"T_54fab_row2_col4\" class=\"data row2 col4\" >242997.000000</td>\n",
       "      <td id=\"T_54fab_row2_col5\" class=\"data row2 col5\" >243589.000000</td>\n",
       "      <td id=\"T_54fab_row2_col6\" class=\"data row2 col6\" >244056.000000</td>\n",
       "      <td id=\"T_54fab_row2_col7\" class=\"data row2 col7\" >247877.000000</td>\n",
       "    </tr>\n",
       "    <tr>\n",
       "      <th id=\"T_54fab_level0_row3\" class=\"row_heading level0 row3\" >lat</th>\n",
       "      <td id=\"T_54fab_row3_col0\" class=\"data row3 col0\" >1557740.000000</td>\n",
       "      <td id=\"T_54fab_row3_col1\" class=\"data row3 col1\" >6.536031</td>\n",
       "      <td id=\"T_54fab_row3_col2\" class=\"data row3 col2\" >0.059981</td>\n",
       "      <td id=\"T_54fab_row3_col3\" class=\"data row3 col3\" >6.409333</td>\n",
       "      <td id=\"T_54fab_row3_col4\" class=\"data row3 col4\" >6.498694</td>\n",
       "      <td id=\"T_54fab_row3_col5\" class=\"data row3 col5\" >6.544247</td>\n",
       "      <td id=\"T_54fab_row3_col6\" class=\"data row3 col6\" >6.593276</td>\n",
       "      <td id=\"T_54fab_row3_col7\" class=\"data row3 col7\" >7.702536</td>\n",
       "    </tr>\n",
       "    <tr>\n",
       "      <th id=\"T_54fab_level0_row4\" class=\"row_heading level0 row4\" >lng</th>\n",
       "      <td id=\"T_54fab_row4_col0\" class=\"data row4 col0\" >1557740.000000</td>\n",
       "      <td id=\"T_54fab_row4_col1\" class=\"data row4 col1\" >3.378877</td>\n",
       "      <td id=\"T_54fab_row4_col2\" class=\"data row4 col2\" >0.053334</td>\n",
       "      <td id=\"T_54fab_row4_col3\" class=\"data row4 col3\" >3.076561</td>\n",
       "      <td id=\"T_54fab_row4_col4\" class=\"data row4 col4\" >3.348810</td>\n",
       "      <td id=\"T_54fab_row4_col5\" class=\"data row4 col5\" >3.363504</td>\n",
       "      <td id=\"T_54fab_row4_col6\" class=\"data row4 col6\" >3.385177</td>\n",
       "      <td id=\"T_54fab_row4_col7\" class=\"data row4 col7\" >8.515414</td>\n",
       "    </tr>\n",
       "    <tr>\n",
       "      <th id=\"T_54fab_level0_row5\" class=\"row_heading level0 row5\" >created_at</th>\n",
       "      <td id=\"T_54fab_row5_col0\" class=\"data row5 col0\" >0.000000</td>\n",
       "      <td id=\"T_54fab_row5_col1\" class=\"data row5 col1\" >nan</td>\n",
       "      <td id=\"T_54fab_row5_col2\" class=\"data row5 col2\" >nan</td>\n",
       "      <td id=\"T_54fab_row5_col3\" class=\"data row5 col3\" >nan</td>\n",
       "      <td id=\"T_54fab_row5_col4\" class=\"data row5 col4\" >nan</td>\n",
       "      <td id=\"T_54fab_row5_col5\" class=\"data row5 col5\" >nan</td>\n",
       "      <td id=\"T_54fab_row5_col6\" class=\"data row5 col6\" >nan</td>\n",
       "      <td id=\"T_54fab_row5_col7\" class=\"data row5 col7\" >nan</td>\n",
       "    </tr>\n",
       "  </tbody>\n",
       "</table>\n"
      ],
      "text/plain": [
       "<pandas.io.formats.style.Styler at 0x264d365ffa0>"
      ]
     },
     "execution_count": 19,
     "metadata": {},
     "output_type": "execute_result"
    }
   ],
   "source": [
    "driver_location_data.describe().T.style.bar(subset=['mean'], color='#205ff2')\\\n",
    "                            .background_gradient(subset=['std'], cmap='Reds')\\\n",
    "                            .background_gradient(subset=['50%'], cmap='coolwarm')"
   ]
  },
  {
   "cell_type": "code",
   "execution_count": 20,
   "metadata": {},
   "outputs": [
    {
     "data": {
      "text/html": [
       "<style type=\"text/css\">\n",
       "#T_eb026_row0_col1 {\n",
       "  width: 10em;\n",
       "  height: 80%;\n",
       "}\n",
       "#T_eb026_row0_col2 {\n",
       "  background-color: #fff5f0;\n",
       "  color: #000000;\n",
       "}\n",
       "#T_eb026_row0_col5 {\n",
       "  background-color: #3b4cc0;\n",
       "  color: #f1f1f1;\n",
       "}\n",
       "</style>\n",
       "<table id=\"T_eb026_\">\n",
       "  <thead>\n",
       "    <tr>\n",
       "      <th class=\"blank level0\" >&nbsp;</th>\n",
       "      <th class=\"col_heading level0 col0\" >count</th>\n",
       "      <th class=\"col_heading level0 col1\" >mean</th>\n",
       "      <th class=\"col_heading level0 col2\" >std</th>\n",
       "      <th class=\"col_heading level0 col3\" >min</th>\n",
       "      <th class=\"col_heading level0 col4\" >25%</th>\n",
       "      <th class=\"col_heading level0 col5\" >50%</th>\n",
       "      <th class=\"col_heading level0 col6\" >75%</th>\n",
       "      <th class=\"col_heading level0 col7\" >max</th>\n",
       "    </tr>\n",
       "  </thead>\n",
       "  <tbody>\n",
       "    <tr>\n",
       "      <th id=\"T_eb026_level0_row0\" class=\"row_heading level0 row0\" >Trip ID</th>\n",
       "      <td id=\"T_eb026_row0_col0\" class=\"data row0 col0\" >536020.000000</td>\n",
       "      <td id=\"T_eb026_row0_col1\" class=\"data row0 col1\" >991022.054968</td>\n",
       "      <td id=\"T_eb026_row0_col2\" class=\"data row0 col2\" >345636.430712</td>\n",
       "      <td id=\"T_eb026_row0_col3\" class=\"data row0 col3\" >391996.000000</td>\n",
       "      <td id=\"T_eb026_row0_col4\" class=\"data row0 col4\" >693561.000000</td>\n",
       "      <td id=\"T_eb026_row0_col5\" class=\"data row0 col5\" >991008.500000</td>\n",
       "      <td id=\"T_eb026_row0_col6\" class=\"data row0 col6\" >1281570.500000</td>\n",
       "      <td id=\"T_eb026_row0_col7\" class=\"data row0 col7\" >1637709.000000</td>\n",
       "    </tr>\n",
       "  </tbody>\n",
       "</table>\n"
      ],
      "text/plain": [
       "<pandas.io.formats.style.Styler at 0x264d355af40>"
      ]
     },
     "execution_count": 20,
     "metadata": {},
     "output_type": "execute_result"
    }
   ],
   "source": [
    "nb_data.describe().T.style.bar(subset=['mean'], color='#205ff2')\\\n",
    "                            .background_gradient(subset=['std'], cmap='Reds')\\\n",
    "                            .background_gradient(subset=['50%'], cmap='coolwarm')"
   ]
  },
  {
   "cell_type": "markdown",
   "metadata": {},
   "source": [
    "#### Univariate Analysis"
   ]
  },
  {
   "cell_type": "code",
   "execution_count": 21,
   "metadata": {},
   "outputs": [],
   "source": [
    "exploration = exploration()"
   ]
  },
  {
   "cell_type": "code",
   "execution_count": 22,
   "metadata": {},
   "outputs": [
    {
     "data": {
      "image/png": "[encoded data removed]",
      "text/plain": [
       "<Figure size 864x504 with 1 Axes>"
      ]
     },
     "metadata": {
      "needs_background": "light"
     },
     "output_type": "display_data"
    }
   ],
   "source": [
    "exploration.plot_count(driver_location_data, 'driver_id')"
   ]
  },
  {
   "cell_type": "code",
   "execution_count": 23,
   "metadata": {},
   "outputs": [
    {
     "data": {
      "text/plain": [
       "245538    6941\n",
       "243020    6447\n",
       "242971    6258\n",
       "243676    5884\n",
       "243932    5793\n",
       "          ... \n",
       "245840       1\n",
       "247182       1\n",
       "245907       1\n",
       "246082       1\n",
       "246602       1\n",
       "Name: driver_id, Length: 1213, dtype: int64"
      ]
     },
     "execution_count": 23,
     "metadata": {},
     "output_type": "execute_result"
    }
   ],
   "source": [
    "driver_location_data[\"driver_id\"].value_counts()"
   ]
  },
  {
   "cell_type": "code",
   "execution_count": 24,
   "metadata": {},
   "outputs": [
    {
     "data": {
      "text/plain": [
       "(Index(['id', 'order_id', 'driver_id', 'driver_action', 'lat', 'lng',\n",
       "        'created_at'],\n",
       "       dtype='object'),\n",
       " Index(['Trip ID', 'Trip Origin', 'Trip Destination', 'Trip Start Time',\n",
       "        'Trip End Time'],\n",
       "       dtype='object'))"
      ]
     },
     "execution_count": 24,
     "metadata": {},
     "output_type": "execute_result"
    }
   ],
   "source": [
    "driver_location_data.columns, nb_data.columns"
   ]
  },
  {
   "cell_type": "code",
   "execution_count": 48,
   "metadata": {},
   "outputs": [],
   "source": [
    "# First 15 features\n",
    "data_dia = driver_location_data\n",
    "data = nb_data\n",
    "# standardization of the data\n",
    "data_n_2 = (data - data.mean()) / (data.std())\n",
    "data = pd.concat([driver_location_data,data_n_2.iloc[:,0:15]],axis=1)\n",
    "data = pd.melt(data,id_vars=\"diagnosis\",\n",
    "                    var_name=\"features\",\n",
    "                    value_name='value')\n",
    "plt.figure(figsize=(20,20))\n",
    "sns.violinplot(x=\"features\", y=\"value\", data=data,split=True, inner=\"quart\",palette =\"Set2\")\n",
    "plt.xticks(rotation=90)"
   ]
  },
  {
   "cell_type": "code",
   "execution_count": null,
   "metadata": {},
   "outputs": [],
   "source": [
    "# Function to calculate correlation coefficient between two arrays\n",
    "def corr(x, y, **kwargs):\n",
    "    \n",
    "    # Calculate the value\n",
    "    coef = np.corrcoef(x, y)[0][1]\n",
    "    # Make the label\n",
    "    label = r'$\\rho$ = ' + str(round(coef, 2))\n",
    "    \n",
    "    # Add the label to the plot\n",
    "    ax = plt.gca()\n",
    "    ax.annotate(label, xy = (0.2, 0.95), size = 11, xycoords = ax.transAxes)\n",
    "# First 15 features\n",
    "data = pd.concat([driver_location_data,nb_data.iloc[:,0:8]],axis=1)\n",
    "plt.figure(figsize=(20,20))\n",
    "grid=sns.pairplot(data=data,kind =\"scatter\",hue=\"diagnosis\",palette=\"Set1\")\n",
    "grid = grid.map_upper(corr)"
   ]
  },
  {
   "cell_type": "code",
   "execution_count": 29,
   "metadata": {},
   "outputs": [
    {
     "ename": "LinAlgError",
     "evalue": "singular matrix",
     "output_type": "error",
     "traceback": [
      "\u001b[1;31m---------------------------------------------------------------------------\u001b[0m",
      "\u001b[1;31mLinAlgError\u001b[0m                               Traceback (most recent call last)",
      "\u001b[1;32mc:\\Users\\hp\\casual-inference\\notebooks\\EDA.ipynb Cell 32\u001b[0m in \u001b[0;36m<module>\u001b[1;34m\u001b[0m\n\u001b[0;32m      <a href='vscode-notebook-cell:/c%3A/Users/hp/casual-inference/notebooks/EDA.ipynb#X43sZmlsZQ%3D%3D?line=0'>1</a>\u001b[0m data \u001b[39m=\u001b[39m pd\u001b[39m.\u001b[39mconcat([driver_location_data, nb_data],axis\u001b[39m=\u001b[39m\u001b[39m1\u001b[39m)\n\u001b[0;32m      <a href='vscode-notebook-cell:/c%3A/Users/hp/casual-inference/notebooks/EDA.ipynb#X43sZmlsZQ%3D%3D?line=1'>2</a>\u001b[0m plt\u001b[39m.\u001b[39mfigure(figsize\u001b[39m=\u001b[39m(\u001b[39m20\u001b[39m,\u001b[39m20\u001b[39m))\n\u001b[1;32m----> <a href='vscode-notebook-cell:/c%3A/Users/hp/casual-inference/notebooks/EDA.ipynb#X43sZmlsZQ%3D%3D?line=2'>3</a>\u001b[0m grid\u001b[39m=\u001b[39msns\u001b[39m.\u001b[39;49mpairplot(data\u001b[39m=\u001b[39;49mdata,kind \u001b[39m=\u001b[39;49m\u001b[39m\"\u001b[39;49m\u001b[39mscatter\u001b[39;49m\u001b[39m\"\u001b[39;49m,hue\u001b[39m=\u001b[39;49m\u001b[39m\"\u001b[39;49m\u001b[39mdriver_id\u001b[39;49m\u001b[39m\"\u001b[39;49m,palette\u001b[39m=\u001b[39;49m\u001b[39m\"\u001b[39;49m\u001b[39mSet1\u001b[39;49m\u001b[39m\"\u001b[39;49m)\n\u001b[0;32m      <a href='vscode-notebook-cell:/c%3A/Users/hp/casual-inference/notebooks/EDA.ipynb#X43sZmlsZQ%3D%3D?line=3'>4</a>\u001b[0m grid \u001b[39m=\u001b[39m grid\u001b[39m.\u001b[39mmap_upper(corr)\n",
      "File \u001b[1;32mc:\\Users\\hp\\AppData\\Local\\Programs\\Python\\Python38\\lib\\site-packages\\seaborn\\_decorators.py:46\u001b[0m, in \u001b[0;36m_deprecate_positional_args.<locals>.inner_f\u001b[1;34m(*args, **kwargs)\u001b[0m\n\u001b[0;32m     36\u001b[0m     warnings\u001b[39m.\u001b[39mwarn(\n\u001b[0;32m     37\u001b[0m         \u001b[39m\"\u001b[39m\u001b[39mPass the following variable\u001b[39m\u001b[39m{}\u001b[39;00m\u001b[39m as \u001b[39m\u001b[39m{}\u001b[39;00m\u001b[39mkeyword arg\u001b[39m\u001b[39m{}\u001b[39;00m\u001b[39m: \u001b[39m\u001b[39m{}\u001b[39;00m\u001b[39m. \u001b[39m\u001b[39m\"\u001b[39m\n\u001b[0;32m     38\u001b[0m         \u001b[39m\"\u001b[39m\u001b[39mFrom version 0.12, the only valid positional argument \u001b[39m\u001b[39m\"\u001b[39m\n\u001b[1;32m   (...)\u001b[0m\n\u001b[0;32m     43\u001b[0m         \u001b[39mFutureWarning\u001b[39;00m\n\u001b[0;32m     44\u001b[0m     )\n\u001b[0;32m     45\u001b[0m kwargs\u001b[39m.\u001b[39mupdate({k: arg \u001b[39mfor\u001b[39;00m k, arg \u001b[39min\u001b[39;00m \u001b[39mzip\u001b[39m(sig\u001b[39m.\u001b[39mparameters, args)})\n\u001b[1;32m---> 46\u001b[0m \u001b[39mreturn\u001b[39;00m f(\u001b[39m*\u001b[39;49m\u001b[39m*\u001b[39;49mkwargs)\n",
      "File \u001b[1;32mc:\\Users\\hp\\AppData\\Local\\Programs\\Python\\Python38\\lib\\site-packages\\seaborn\\axisgrid.py:2130\u001b[0m, in \u001b[0;36mpairplot\u001b[1;34m(data, hue, hue_order, palette, vars, x_vars, y_vars, kind, diag_kind, markers, height, aspect, corner, dropna, plot_kws, diag_kws, grid_kws, size)\u001b[0m\n\u001b[0;32m   2128\u001b[0m     diag_kws\u001b[39m.\u001b[39msetdefault(\u001b[39m\"\u001b[39m\u001b[39mfill\u001b[39m\u001b[39m\"\u001b[39m, \u001b[39mTrue\u001b[39;00m)\n\u001b[0;32m   2129\u001b[0m     diag_kws\u001b[39m.\u001b[39msetdefault(\u001b[39m\"\u001b[39m\u001b[39mwarn_singular\u001b[39m\u001b[39m\"\u001b[39m, \u001b[39mFalse\u001b[39;00m)\n\u001b[1;32m-> 2130\u001b[0m     grid\u001b[39m.\u001b[39;49mmap_diag(kdeplot, \u001b[39m*\u001b[39;49m\u001b[39m*\u001b[39;49mdiag_kws)\n\u001b[0;32m   2132\u001b[0m \u001b[39m# Maybe plot on the off-diagonals\u001b[39;00m\n\u001b[0;32m   2133\u001b[0m \u001b[39mif\u001b[39;00m diag_kind \u001b[39mis\u001b[39;00m \u001b[39mnot\u001b[39;00m \u001b[39mNone\u001b[39;00m:\n",
      "File \u001b[1;32mc:\\Users\\hp\\AppData\\Local\\Programs\\Python\\Python38\\lib\\site-packages\\seaborn\\axisgrid.py:1478\u001b[0m, in \u001b[0;36mPairGrid.map_diag\u001b[1;34m(self, func, **kwargs)\u001b[0m\n\u001b[0;32m   1476\u001b[0m     plot_kwargs\u001b[39m.\u001b[39msetdefault(\u001b[39m\"\u001b[39m\u001b[39mhue_order\u001b[39m\u001b[39m\"\u001b[39m, \u001b[39mself\u001b[39m\u001b[39m.\u001b[39m_hue_order)\n\u001b[0;32m   1477\u001b[0m     plot_kwargs\u001b[39m.\u001b[39msetdefault(\u001b[39m\"\u001b[39m\u001b[39mpalette\u001b[39m\u001b[39m\"\u001b[39m, \u001b[39mself\u001b[39m\u001b[39m.\u001b[39m_orig_palette)\n\u001b[1;32m-> 1478\u001b[0m     func(x\u001b[39m=\u001b[39;49mvector, \u001b[39m*\u001b[39;49m\u001b[39m*\u001b[39;49mplot_kwargs)\n\u001b[0;32m   1479\u001b[0m     ax\u001b[39m.\u001b[39mlegend_ \u001b[39m=\u001b[39m \u001b[39mNone\u001b[39;00m\n\u001b[0;32m   1481\u001b[0m \u001b[39mself\u001b[39m\u001b[39m.\u001b[39m_add_axis_labels()\n",
      "File \u001b[1;32mc:\\Users\\hp\\AppData\\Local\\Programs\\Python\\Python38\\lib\\site-packages\\seaborn\\_decorators.py:46\u001b[0m, in \u001b[0;36m_deprecate_positional_args.<locals>.inner_f\u001b[1;34m(*args, **kwargs)\u001b[0m\n\u001b[0;32m     36\u001b[0m     warnings\u001b[39m.\u001b[39mwarn(\n\u001b[0;32m     37\u001b[0m         \u001b[39m\"\u001b[39m\u001b[39mPass the following variable\u001b[39m\u001b[39m{}\u001b[39;00m\u001b[39m as \u001b[39m\u001b[39m{}\u001b[39;00m\u001b[39mkeyword arg\u001b[39m\u001b[39m{}\u001b[39;00m\u001b[39m: \u001b[39m\u001b[39m{}\u001b[39;00m\u001b[39m. \u001b[39m\u001b[39m\"\u001b[39m\n\u001b[0;32m     38\u001b[0m         \u001b[39m\"\u001b[39m\u001b[39mFrom version 0.12, the only valid positional argument \u001b[39m\u001b[39m\"\u001b[39m\n\u001b[1;32m   (...)\u001b[0m\n\u001b[0;32m     43\u001b[0m         \u001b[39mFutureWarning\u001b[39;00m\n\u001b[0;32m     44\u001b[0m     )\n\u001b[0;32m     45\u001b[0m kwargs\u001b[39m.\u001b[39mupdate({k: arg \u001b[39mfor\u001b[39;00m k, arg \u001b[39min\u001b[39;00m \u001b[39mzip\u001b[39m(sig\u001b[39m.\u001b[39mparameters, args)})\n\u001b[1;32m---> 46\u001b[0m \u001b[39mreturn\u001b[39;00m f(\u001b[39m*\u001b[39;49m\u001b[39m*\u001b[39;49mkwargs)\n",
      "File \u001b[1;32mc:\\Users\\hp\\AppData\\Local\\Programs\\Python\\Python38\\lib\\site-packages\\seaborn\\distributions.py:1770\u001b[0m, in \u001b[0;36mkdeplot\u001b[1;34m(x, y, shade, vertical, kernel, bw, gridsize, cut, clip, legend, cumulative, shade_lowest, cbar, cbar_ax, cbar_kws, ax, weights, hue, palette, hue_order, hue_norm, multiple, common_norm, common_grid, levels, thresh, bw_method, bw_adjust, log_scale, color, fill, data, data2, warn_singular, **kwargs)\u001b[0m\n\u001b[0;32m   1767\u001b[0m     \u001b[39mif\u001b[39;00m color \u001b[39mis\u001b[39;00m \u001b[39mnot\u001b[39;00m \u001b[39mNone\u001b[39;00m:\n\u001b[0;32m   1768\u001b[0m         plot_kws[\u001b[39m\"\u001b[39m\u001b[39mcolor\u001b[39m\u001b[39m\"\u001b[39m] \u001b[39m=\u001b[39m color\n\u001b[1;32m-> 1770\u001b[0m     p\u001b[39m.\u001b[39;49mplot_univariate_density(\n\u001b[0;32m   1771\u001b[0m         multiple\u001b[39m=\u001b[39;49mmultiple,\n\u001b[0;32m   1772\u001b[0m         common_norm\u001b[39m=\u001b[39;49mcommon_norm,\n\u001b[0;32m   1773\u001b[0m         common_grid\u001b[39m=\u001b[39;49mcommon_grid,\n\u001b[0;32m   1774\u001b[0m         fill\u001b[39m=\u001b[39;49mfill,\n\u001b[0;32m   1775\u001b[0m         legend\u001b[39m=\u001b[39;49mlegend,\n\u001b[0;32m   1776\u001b[0m         warn_singular\u001b[39m=\u001b[39;49mwarn_singular,\n\u001b[0;32m   1777\u001b[0m         estimate_kws\u001b[39m=\u001b[39;49mestimate_kws,\n\u001b[0;32m   1778\u001b[0m         \u001b[39m*\u001b[39;49m\u001b[39m*\u001b[39;49mplot_kws,\n\u001b[0;32m   1779\u001b[0m     )\n\u001b[0;32m   1781\u001b[0m \u001b[39melse\u001b[39;00m:\n\u001b[0;32m   1783\u001b[0m     p\u001b[39m.\u001b[39mplot_bivariate_density(\n\u001b[0;32m   1784\u001b[0m         common_norm\u001b[39m=\u001b[39mcommon_norm,\n\u001b[0;32m   1785\u001b[0m         fill\u001b[39m=\u001b[39mfill,\n\u001b[1;32m   (...)\u001b[0m\n\u001b[0;32m   1795\u001b[0m         \u001b[39m*\u001b[39m\u001b[39m*\u001b[39mkwargs,\n\u001b[0;32m   1796\u001b[0m     )\n",
      "File \u001b[1;32mc:\\Users\\hp\\AppData\\Local\\Programs\\Python\\Python38\\lib\\site-packages\\seaborn\\distributions.py:928\u001b[0m, in \u001b[0;36m_DistributionPlotter.plot_univariate_density\u001b[1;34m(self, multiple, common_norm, common_grid, warn_singular, fill, legend, estimate_kws, **plot_kws)\u001b[0m\n\u001b[0;32m    925\u001b[0m log_scale \u001b[39m=\u001b[39m \u001b[39mself\u001b[39m\u001b[39m.\u001b[39m_log_scaled(\u001b[39mself\u001b[39m\u001b[39m.\u001b[39mdata_variable)\n\u001b[0;32m    927\u001b[0m \u001b[39m# Do the computation\u001b[39;00m\n\u001b[1;32m--> 928\u001b[0m densities \u001b[39m=\u001b[39m \u001b[39mself\u001b[39;49m\u001b[39m.\u001b[39;49m_compute_univariate_density(\n\u001b[0;32m    929\u001b[0m     \u001b[39mself\u001b[39;49m\u001b[39m.\u001b[39;49mdata_variable,\n\u001b[0;32m    930\u001b[0m     common_norm,\n\u001b[0;32m    931\u001b[0m     common_grid,\n\u001b[0;32m    932\u001b[0m     estimate_kws,\n\u001b[0;32m    933\u001b[0m     log_scale,\n\u001b[0;32m    934\u001b[0m     warn_singular,\n\u001b[0;32m    935\u001b[0m )\n\u001b[0;32m    937\u001b[0m \u001b[39m# Adjust densities based on the `multiple` rule\u001b[39;00m\n\u001b[0;32m    938\u001b[0m densities, baselines \u001b[39m=\u001b[39m \u001b[39mself\u001b[39m\u001b[39m.\u001b[39m_resolve_multiple(densities, multiple)\n",
      "File \u001b[1;32mc:\\Users\\hp\\AppData\\Local\\Programs\\Python\\Python38\\lib\\site-packages\\seaborn\\distributions.py:326\u001b[0m, in \u001b[0;36m_DistributionPlotter._compute_univariate_density\u001b[1;34m(self, data_variable, common_norm, common_grid, estimate_kws, log_scale, warn_singular)\u001b[0m\n\u001b[0;32m    323\u001b[0m     weights \u001b[39m=\u001b[39m \u001b[39mNone\u001b[39;00m\n\u001b[0;32m    325\u001b[0m \u001b[39m# Estimate the density of observations at this level\u001b[39;00m\n\u001b[1;32m--> 326\u001b[0m density, support \u001b[39m=\u001b[39m estimator(observations, weights\u001b[39m=\u001b[39;49mweights)\n\u001b[0;32m    328\u001b[0m \u001b[39mif\u001b[39;00m log_scale:\n\u001b[0;32m    329\u001b[0m     support \u001b[39m=\u001b[39m np\u001b[39m.\u001b[39mpower(\u001b[39m10\u001b[39m, support)\n",
      "File \u001b[1;32mc:\\Users\\hp\\AppData\\Local\\Programs\\Python\\Python38\\lib\\site-packages\\seaborn\\_statistics.py:187\u001b[0m, in \u001b[0;36mKDE.__call__\u001b[1;34m(self, x1, x2, weights)\u001b[0m\n\u001b[0;32m    185\u001b[0m \u001b[39m\"\"\"Fit and evaluate on univariate or bivariate data.\"\"\"\u001b[39;00m\n\u001b[0;32m    186\u001b[0m \u001b[39mif\u001b[39;00m x2 \u001b[39mis\u001b[39;00m \u001b[39mNone\u001b[39;00m:\n\u001b[1;32m--> 187\u001b[0m     \u001b[39mreturn\u001b[39;00m \u001b[39mself\u001b[39;49m\u001b[39m.\u001b[39;49m_eval_univariate(x1, weights)\n\u001b[0;32m    188\u001b[0m \u001b[39melse\u001b[39;00m:\n\u001b[0;32m    189\u001b[0m     \u001b[39mreturn\u001b[39;00m \u001b[39mself\u001b[39m\u001b[39m.\u001b[39m_eval_bivariate(x1, x2, weights)\n",
      "File \u001b[1;32mc:\\Users\\hp\\AppData\\Local\\Programs\\Python\\Python38\\lib\\site-packages\\seaborn\\_statistics.py:146\u001b[0m, in \u001b[0;36mKDE._eval_univariate\u001b[1;34m(self, x, weights)\u001b[0m\n\u001b[0;32m    144\u001b[0m support \u001b[39m=\u001b[39m \u001b[39mself\u001b[39m\u001b[39m.\u001b[39msupport\n\u001b[0;32m    145\u001b[0m \u001b[39mif\u001b[39;00m support \u001b[39mis\u001b[39;00m \u001b[39mNone\u001b[39;00m:\n\u001b[1;32m--> 146\u001b[0m     support \u001b[39m=\u001b[39m \u001b[39mself\u001b[39;49m\u001b[39m.\u001b[39;49mdefine_support(x, cache\u001b[39m=\u001b[39;49m\u001b[39mFalse\u001b[39;49;00m)\n\u001b[0;32m    148\u001b[0m kde \u001b[39m=\u001b[39m \u001b[39mself\u001b[39m\u001b[39m.\u001b[39m_fit(x, weights)\n\u001b[0;32m    150\u001b[0m \u001b[39mif\u001b[39;00m \u001b[39mself\u001b[39m\u001b[39m.\u001b[39mcumulative:\n",
      "File \u001b[1;32mc:\\Users\\hp\\AppData\\Local\\Programs\\Python\\Python38\\lib\\site-packages\\seaborn\\_statistics.py:119\u001b[0m, in \u001b[0;36mKDE.define_support\u001b[1;34m(self, x1, x2, weights, cache)\u001b[0m\n\u001b[0;32m    117\u001b[0m \u001b[39m\"\"\"Create the evaluation grid for a given data set.\"\"\"\u001b[39;00m\n\u001b[0;32m    118\u001b[0m \u001b[39mif\u001b[39;00m x2 \u001b[39mis\u001b[39;00m \u001b[39mNone\u001b[39;00m:\n\u001b[1;32m--> 119\u001b[0m     support \u001b[39m=\u001b[39m \u001b[39mself\u001b[39;49m\u001b[39m.\u001b[39;49m_define_support_univariate(x1, weights)\n\u001b[0;32m    120\u001b[0m \u001b[39melse\u001b[39;00m:\n\u001b[0;32m    121\u001b[0m     support \u001b[39m=\u001b[39m \u001b[39mself\u001b[39m\u001b[39m.\u001b[39m_define_support_bivariate(x1, x2, weights)\n",
      "File \u001b[1;32mc:\\Users\\hp\\AppData\\Local\\Programs\\Python\\Python38\\lib\\site-packages\\seaborn\\_statistics.py:91\u001b[0m, in \u001b[0;36mKDE._define_support_univariate\u001b[1;34m(self, x, weights)\u001b[0m\n\u001b[0;32m     89\u001b[0m \u001b[39mdef\u001b[39;00m \u001b[39m_define_support_univariate\u001b[39m(\u001b[39mself\u001b[39m, x, weights):\n\u001b[0;32m     90\u001b[0m     \u001b[39m\"\"\"Create a 1D grid of evaluation points.\"\"\"\u001b[39;00m\n\u001b[1;32m---> 91\u001b[0m     kde \u001b[39m=\u001b[39m \u001b[39mself\u001b[39;49m\u001b[39m.\u001b[39;49m_fit(x, weights)\n\u001b[0;32m     92\u001b[0m     bw \u001b[39m=\u001b[39m np\u001b[39m.\u001b[39msqrt(kde\u001b[39m.\u001b[39mcovariance\u001b[39m.\u001b[39msqueeze())\n\u001b[0;32m     93\u001b[0m     grid \u001b[39m=\u001b[39m \u001b[39mself\u001b[39m\u001b[39m.\u001b[39m_define_support_grid(\n\u001b[0;32m     94\u001b[0m         x, bw, \u001b[39mself\u001b[39m\u001b[39m.\u001b[39mcut, \u001b[39mself\u001b[39m\u001b[39m.\u001b[39mclip, \u001b[39mself\u001b[39m\u001b[39m.\u001b[39mgridsize\n\u001b[0;32m     95\u001b[0m     )\n",
      "File \u001b[1;32mc:\\Users\\hp\\AppData\\Local\\Programs\\Python\\Python38\\lib\\site-packages\\seaborn\\_statistics.py:137\u001b[0m, in \u001b[0;36mKDE._fit\u001b[1;34m(self, fit_data, weights)\u001b[0m\n\u001b[0;32m    134\u001b[0m         \u001b[39mraise\u001b[39;00m \u001b[39mRuntimeError\u001b[39;00m(msg)\n\u001b[0;32m    135\u001b[0m     fit_kws[\u001b[39m\"\u001b[39m\u001b[39mweights\u001b[39m\u001b[39m\"\u001b[39m] \u001b[39m=\u001b[39m weights\n\u001b[1;32m--> 137\u001b[0m kde \u001b[39m=\u001b[39m stats\u001b[39m.\u001b[39;49mgaussian_kde(fit_data, \u001b[39m*\u001b[39;49m\u001b[39m*\u001b[39;49mfit_kws)\n\u001b[0;32m    138\u001b[0m kde\u001b[39m.\u001b[39mset_bandwidth(kde\u001b[39m.\u001b[39mfactor \u001b[39m*\u001b[39m \u001b[39mself\u001b[39m\u001b[39m.\u001b[39mbw_adjust)\n\u001b[0;32m    140\u001b[0m \u001b[39mreturn\u001b[39;00m kde\n",
      "File \u001b[1;32mc:\\Users\\hp\\AppData\\Local\\Programs\\Python\\Python38\\lib\\site-packages\\scipy\\stats\\_kde.py:207\u001b[0m, in \u001b[0;36mgaussian_kde.__init__\u001b[1;34m(self, dataset, bw_method, weights)\u001b[0m\n\u001b[0;32m    204\u001b[0m         \u001b[39mraise\u001b[39;00m \u001b[39mValueError\u001b[39;00m(\u001b[39m\"\u001b[39m\u001b[39m`weights` input should be of length n\u001b[39m\u001b[39m\"\u001b[39m)\n\u001b[0;32m    205\u001b[0m     \u001b[39mself\u001b[39m\u001b[39m.\u001b[39m_neff \u001b[39m=\u001b[39m \u001b[39m1\u001b[39m\u001b[39m/\u001b[39m\u001b[39msum\u001b[39m(\u001b[39mself\u001b[39m\u001b[39m.\u001b[39m_weights\u001b[39m*\u001b[39m\u001b[39m*\u001b[39m\u001b[39m2\u001b[39m)\n\u001b[1;32m--> 207\u001b[0m \u001b[39mself\u001b[39;49m\u001b[39m.\u001b[39;49mset_bandwidth(bw_method\u001b[39m=\u001b[39;49mbw_method)\n",
      "File \u001b[1;32mc:\\Users\\hp\\AppData\\Local\\Programs\\Python\\Python38\\lib\\site-packages\\scipy\\stats\\_kde.py:555\u001b[0m, in \u001b[0;36mgaussian_kde.set_bandwidth\u001b[1;34m(self, bw_method)\u001b[0m\n\u001b[0;32m    551\u001b[0m     msg \u001b[39m=\u001b[39m \u001b[39m\"\u001b[39m\u001b[39m`bw_method` should be \u001b[39m\u001b[39m'\u001b[39m\u001b[39mscott\u001b[39m\u001b[39m'\u001b[39m\u001b[39m, \u001b[39m\u001b[39m'\u001b[39m\u001b[39msilverman\u001b[39m\u001b[39m'\u001b[39m\u001b[39m, a scalar \u001b[39m\u001b[39m\"\u001b[39m \\\n\u001b[0;32m    552\u001b[0m           \u001b[39m\"\u001b[39m\u001b[39mor a callable.\u001b[39m\u001b[39m\"\u001b[39m\n\u001b[0;32m    553\u001b[0m     \u001b[39mraise\u001b[39;00m \u001b[39mValueError\u001b[39;00m(msg)\n\u001b[1;32m--> 555\u001b[0m \u001b[39mself\u001b[39;49m\u001b[39m.\u001b[39;49m_compute_covariance()\n",
      "File \u001b[1;32mc:\\Users\\hp\\AppData\\Local\\Programs\\Python\\Python38\\lib\\site-packages\\scipy\\stats\\_kde.py:567\u001b[0m, in \u001b[0;36mgaussian_kde._compute_covariance\u001b[1;34m(self)\u001b[0m\n\u001b[0;32m    563\u001b[0m \u001b[39mif\u001b[39;00m \u001b[39mnot\u001b[39;00m \u001b[39mhasattr\u001b[39m(\u001b[39mself\u001b[39m, \u001b[39m'\u001b[39m\u001b[39m_data_inv_cov\u001b[39m\u001b[39m'\u001b[39m):\n\u001b[0;32m    564\u001b[0m     \u001b[39mself\u001b[39m\u001b[39m.\u001b[39m_data_covariance \u001b[39m=\u001b[39m atleast_2d(cov(\u001b[39mself\u001b[39m\u001b[39m.\u001b[39mdataset, rowvar\u001b[39m=\u001b[39m\u001b[39m1\u001b[39m,\n\u001b[0;32m    565\u001b[0m                                        bias\u001b[39m=\u001b[39m\u001b[39mFalse\u001b[39;00m,\n\u001b[0;32m    566\u001b[0m                                        aweights\u001b[39m=\u001b[39m\u001b[39mself\u001b[39m\u001b[39m.\u001b[39mweights))\n\u001b[1;32m--> 567\u001b[0m     \u001b[39mself\u001b[39m\u001b[39m.\u001b[39m_data_inv_cov \u001b[39m=\u001b[39m linalg\u001b[39m.\u001b[39;49minv(\u001b[39mself\u001b[39;49m\u001b[39m.\u001b[39;49m_data_covariance)\n\u001b[0;32m    569\u001b[0m \u001b[39mself\u001b[39m\u001b[39m.\u001b[39mcovariance \u001b[39m=\u001b[39m \u001b[39mself\u001b[39m\u001b[39m.\u001b[39m_data_covariance \u001b[39m*\u001b[39m \u001b[39mself\u001b[39m\u001b[39m.\u001b[39mfactor\u001b[39m*\u001b[39m\u001b[39m*\u001b[39m\u001b[39m2\u001b[39m\n\u001b[0;32m    570\u001b[0m \u001b[39mself\u001b[39m\u001b[39m.\u001b[39minv_cov \u001b[39m=\u001b[39m \u001b[39mself\u001b[39m\u001b[39m.\u001b[39m_data_inv_cov \u001b[39m/\u001b[39m \u001b[39mself\u001b[39m\u001b[39m.\u001b[39mfactor\u001b[39m*\u001b[39m\u001b[39m*\u001b[39m\u001b[39m2\u001b[39m\n",
      "File \u001b[1;32mc:\\Users\\hp\\AppData\\Local\\Programs\\Python\\Python38\\lib\\site-packages\\scipy\\linalg\\_basic.py:968\u001b[0m, in \u001b[0;36minv\u001b[1;34m(a, overwrite_a, check_finite)\u001b[0m\n\u001b[0;32m    966\u001b[0m     inv_a, info \u001b[39m=\u001b[39m getri(lu, piv, lwork\u001b[39m=\u001b[39mlwork, overwrite_lu\u001b[39m=\u001b[39m\u001b[39m1\u001b[39m)\n\u001b[0;32m    967\u001b[0m \u001b[39mif\u001b[39;00m info \u001b[39m>\u001b[39m \u001b[39m0\u001b[39m:\n\u001b[1;32m--> 968\u001b[0m     \u001b[39mraise\u001b[39;00m LinAlgError(\u001b[39m\"\u001b[39m\u001b[39msingular matrix\u001b[39m\u001b[39m\"\u001b[39m)\n\u001b[0;32m    969\u001b[0m \u001b[39mif\u001b[39;00m info \u001b[39m<\u001b[39m \u001b[39m0\u001b[39m:\n\u001b[0;32m    970\u001b[0m     \u001b[39mraise\u001b[39;00m \u001b[39mValueError\u001b[39;00m(\u001b[39m'\u001b[39m\u001b[39millegal value in \u001b[39m\u001b[39m%d\u001b[39;00m\u001b[39m-th argument of internal \u001b[39m\u001b[39m'\u001b[39m\n\u001b[0;32m    971\u001b[0m                      \u001b[39m'\u001b[39m\u001b[39mgetrf|getri\u001b[39m\u001b[39m'\u001b[39m \u001b[39m%\u001b[39m \u001b[39m-\u001b[39minfo)\n",
      "\u001b[1;31mLinAlgError\u001b[0m: singular matrix"
     ]
    },
    {
     "data": {
      "text/plain": [
       "<Figure size 1440x1440 with 0 Axes>"
      ]
     },
     "metadata": {},
     "output_type": "display_data"
    },
    {
     "data": {
      "image/png": "[encoded data removed]",
      "text/plain": [
       "<Figure size 1080x1080 with 42 Axes>"
      ]
     },
     "metadata": {
      "needs_background": "light"
     },
     "output_type": "display_data"
    }
   ],
   "source": [
    "data = pd.concat([driver_location_data, nb_data],axis=1)\n",
    "plt.figure(figsize=(20,20))\n",
    "grid=sns.pairplot(data=data,kind =\"scatter\",hue=\"driver_id\",palette=\"Set1\")\n",
    "grid = grid.map_upper(corr)"
   ]
  },
  {
   "cell_type": "code",
   "execution_count": null,
   "metadata": {},
   "outputs": [],
   "source": []
  }
 ],
 "metadata": {
  "kernelspec": {
   "display_name": "Python 3.8.10 64-bit",
   "language": "python",
   "name": "python3"
  },
  "language_info": {
   "codemirror_mode": {
    "name": "ipython",
    "version": 3
   },
   "file_extension": ".py",
   "mimetype": "text/x-python",
   "name": "python",
   "nbconvert_exporter": "python",
   "pygments_lexer": "ipython3",
   "version": "3.8.10"
  },
  "orig_nbformat": 4,
  "vscode": {
   "interpreter": {
    "hash": "892b1dbae191cb403baa4bf29e539705d2bb168fb9a756bde180b5b738f682b9"
   }
  }
 },
 "nbformat": 4,
 "nbformat_minor": 2
}

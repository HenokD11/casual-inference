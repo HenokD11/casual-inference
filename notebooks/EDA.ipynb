{
 "cells": [
  {
   "cell_type": "code",
   "execution_count": 9,
   "metadata": {},
   "outputs": [],
   "source": [
    "import dvc.api\n",
    "import sys\n",
    "#importing the libraries\n",
    "import numpy as np\n",
    "import matplotlib.pyplot as plt\n",
    "import numpy as np\n",
    "import pandas as pd\n",
    "from scipy import stats\n",
    "import plotly.express as px\n",
    "import seaborn as sns\n",
    "sns.set()\n",
    "import matplotlib.pyplot as plt\n",
    "%matplotlib inline\n",
    "from sklearn import preprocessing\n",
    "import plotly.graph_objects as go\n",
    "import warnings\n",
    "warnings.filterwarnings(\"ignore\")"
   ]
  },
  {
   "cell_type": "code",
   "execution_count": 18,
   "metadata": {},
   "outputs": [
    {
     "ename": "FileNotFoundError",
     "evalue": "[Errno 2] No such file or directory: 'c:\\\\Users\\\\hp\\\\casual-inference\\\\notebooks\\\\logs\\\\data_preprocessing.log'",
     "output_type": "error",
     "traceback": [
      "\u001b[1;31m---------------------------------------------------------------------------\u001b[0m",
      "\u001b[1;31mFileNotFoundError\u001b[0m                         Traceback (most recent call last)",
      "\u001b[1;32mc:\\Users\\hp\\casual-inference\\notebooks\\EDA.ipynb Cell 2\u001b[0m in \u001b[0;36m<module>\u001b[1;34m\u001b[0m\n\u001b[0;32m      <a href='vscode-notebook-cell:/c%3A/Users/hp/casual-inference/notebooks/EDA.ipynb#X23sZmlsZQ%3D%3D?line=2'>3</a>\u001b[0m \u001b[39mimport\u001b[39;00m \u001b[39msys\u001b[39;00m\u001b[39m,\u001b[39m \u001b[39mos\u001b[39;00m\n\u001b[0;32m      <a href='vscode-notebook-cell:/c%3A/Users/hp/casual-inference/notebooks/EDA.ipynb#X23sZmlsZQ%3D%3D?line=3'>4</a>\u001b[0m sys\u001b[39m.\u001b[39mpath\u001b[39m.\u001b[39minsert(\u001b[39m0\u001b[39m, \u001b[39m'\u001b[39m\u001b[39m../scripts/\u001b[39m\u001b[39m'\u001b[39m)\n\u001b[1;32m----> <a href='vscode-notebook-cell:/c%3A/Users/hp/casual-inference/notebooks/EDA.ipynb#X23sZmlsZQ%3D%3D?line=4'>5</a>\u001b[0m \u001b[39mfrom\u001b[39;00m \u001b[39mdata_preprocessing\u001b[39;00m \u001b[39mimport\u001b[39;00m data_preProcessing_script\n\u001b[0;32m      <a href='vscode-notebook-cell:/c%3A/Users/hp/casual-inference/notebooks/EDA.ipynb#X23sZmlsZQ%3D%3D?line=5'>6</a>\u001b[0m \u001b[39mfrom\u001b[39;00m \u001b[39mcleaner\u001b[39;00m \u001b[39mimport\u001b[39;00m DataCleaner\n\u001b[0;32m      <a href='vscode-notebook-cell:/c%3A/Users/hp/casual-inference/notebooks/EDA.ipynb#X23sZmlsZQ%3D%3D?line=6'>7</a>\u001b[0m \u001b[39mfrom\u001b[39;00m \u001b[39mexploratory\u001b[39;00m \u001b[39mimport\u001b[39;00m exploration\n",
      "File \u001b[1;32mc:\\Users\\hp\\casual-inference\\notebooks\\../scripts\\data_preprocessing.py:10\u001b[0m, in \u001b[0;36m<module>\u001b[1;34m\u001b[0m\n\u001b[0;32m      7\u001b[0m sys\u001b[39m.\u001b[39mpath\u001b[39m.\u001b[39mappend(os\u001b[39m.\u001b[39mpath\u001b[39m.\u001b[39mabspath(os\u001b[39m.\u001b[39mpath\u001b[39m.\u001b[39mjoin(\u001b[39m'\u001b[39m\u001b[39m..\u001b[39m\u001b[39m'\u001b[39m)))\n\u001b[0;32m      8\u001b[0m \u001b[39mfrom\u001b[39;00m \u001b[39mlogger\u001b[39;00m \u001b[39mimport\u001b[39;00m App_Logger\n\u001b[1;32m---> 10\u001b[0m app_logger \u001b[39m=\u001b[39m App_Logger(\u001b[39m\"\u001b[39;49m\u001b[39mlogs/data_preProcessing.log\u001b[39;49m\u001b[39m\"\u001b[39;49m)\u001b[39m.\u001b[39mget_app_logger()\n\u001b[0;32m     13\u001b[0m \u001b[39mclass\u001b[39;00m \u001b[39mdata_preProcessing_script\u001b[39;00m:\n\u001b[0;32m     15\u001b[0m     \u001b[39mdef\u001b[39;00m \u001b[39m__init__\u001b[39m(\u001b[39mself\u001b[39m, df: pd\u001b[39m.\u001b[39mDataFrame) \u001b[39m-\u001b[39m\u001b[39m>\u001b[39m \u001b[39mNone\u001b[39;00m:\n",
      "File \u001b[1;32mc:\\Users\\hp\\casual-inference\\notebooks\\../scripts\\logger.py:14\u001b[0m, in \u001b[0;36mApp_Logger.__init__\u001b[1;34m(self, file_name, basic_level)\u001b[0m\n\u001b[0;32m     11\u001b[0m logger\u001b[39m.\u001b[39msetLevel(basic_level)\n\u001b[0;32m     13\u001b[0m \u001b[39m# define file handler and set formatter\u001b[39;00m\n\u001b[1;32m---> 14\u001b[0m file_handler \u001b[39m=\u001b[39m logging\u001b[39m.\u001b[39;49mFileHandler(file_name)\n\u001b[0;32m     15\u001b[0m formatter \u001b[39m=\u001b[39m logging\u001b[39m.\u001b[39mFormatter(\n\u001b[0;32m     16\u001b[0m     \u001b[39m'\u001b[39m\u001b[39m%(asctime)s\u001b[39;00m\u001b[39m : \u001b[39m\u001b[39m%(levelname)s\u001b[39;00m\u001b[39m : \u001b[39m\u001b[39m%(name)s\u001b[39;00m\u001b[39m : \u001b[39m\u001b[39m%(message)s\u001b[39;00m\u001b[39m'\u001b[39m)\n\u001b[0;32m     18\u001b[0m file_handler\u001b[39m.\u001b[39msetFormatter(formatter)\n",
      "File \u001b[1;32mc:\\Users\\hp\\AppData\\Local\\Programs\\Python\\Python38\\lib\\logging\\__init__.py:1147\u001b[0m, in \u001b[0;36mFileHandler.__init__\u001b[1;34m(self, filename, mode, encoding, delay)\u001b[0m\n\u001b[0;32m   1145\u001b[0m     \u001b[39mself\u001b[39m\u001b[39m.\u001b[39mstream \u001b[39m=\u001b[39m \u001b[39mNone\u001b[39;00m\n\u001b[0;32m   1146\u001b[0m \u001b[39melse\u001b[39;00m:\n\u001b[1;32m-> 1147\u001b[0m     StreamHandler\u001b[39m.\u001b[39m\u001b[39m__init__\u001b[39m(\u001b[39mself\u001b[39m, \u001b[39mself\u001b[39;49m\u001b[39m.\u001b[39;49m_open())\n",
      "File \u001b[1;32mc:\\Users\\hp\\AppData\\Local\\Programs\\Python\\Python38\\lib\\logging\\__init__.py:1176\u001b[0m, in \u001b[0;36mFileHandler._open\u001b[1;34m(self)\u001b[0m\n\u001b[0;32m   1171\u001b[0m \u001b[39mdef\u001b[39;00m \u001b[39m_open\u001b[39m(\u001b[39mself\u001b[39m):\n\u001b[0;32m   1172\u001b[0m     \u001b[39m\"\"\"\u001b[39;00m\n\u001b[0;32m   1173\u001b[0m \u001b[39m    Open the current base file with the (original) mode and encoding.\u001b[39;00m\n\u001b[0;32m   1174\u001b[0m \u001b[39m    Return the resulting stream.\u001b[39;00m\n\u001b[0;32m   1175\u001b[0m \u001b[39m    \"\"\"\u001b[39;00m\n\u001b[1;32m-> 1176\u001b[0m     \u001b[39mreturn\u001b[39;00m \u001b[39mopen\u001b[39;49m(\u001b[39mself\u001b[39;49m\u001b[39m.\u001b[39;49mbaseFilename, \u001b[39mself\u001b[39;49m\u001b[39m.\u001b[39;49mmode, encoding\u001b[39m=\u001b[39;49m\u001b[39mself\u001b[39;49m\u001b[39m.\u001b[39;49mencoding)\n",
      "\u001b[1;31mFileNotFoundError\u001b[0m: [Errno 2] No such file or directory: 'c:\\\\Users\\\\hp\\\\casual-inference\\\\notebooks\\\\logs\\\\data_preprocessing.log'"
     ]
    }
   ],
   "source": [
    "# importing script modules from ../scripts\n",
    "# Adding scripts path\n",
    "import sys, os\n",
    "sys.path.insert(0, '../scripts/')\n",
    "from data_preprocessing import data_preProcessing_script\n",
    "from cleaner import DataCleaner\n",
    "from exploratory import exploration"
   ]
  },
  {
   "cell_type": "code",
   "execution_count": 4,
   "metadata": {},
   "outputs": [],
   "source": [
    "def get_data(path,repo,version):\n",
    "    data_url = dvc.api.get_url(\n",
    "    path=path,\n",
    "    repo=repo,\n",
    "    rev=version\n",
    "    )\n",
    "    df = pd.read_csv(data_url)\n",
    "    return df"
   ]
  },
  {
   "cell_type": "code",
   "execution_count": null,
   "metadata": {},
   "outputs": [],
   "source": [
    "driver_location_data = get_data('data/driver_locations_during_request.csv','C:/Users/User/hp/Causal-Inference','driver_locations_during_request_v1')\n",
    "nb_data = get_data('data/nb.csv','C:/Users/User/hp/Causal-Inference','nb_v1')"
   ]
  },
  {
   "cell_type": "code",
   "execution_count": 15,
   "metadata": {},
   "outputs": [],
   "source": [
    "driver_location_data = pd.read_csv('../data/driver_locations_during_request.csv')\n",
    "nb_data = pd.read_csv('../data/nb.csv')"
   ]
  },
  {
   "cell_type": "code",
   "execution_count": null,
   "metadata": {},
   "outputs": [],
   "source": []
  },
  {
   "cell_type": "code",
   "execution_count": null,
   "metadata": {},
   "outputs": [],
   "source": []
  },
  {
   "cell_type": "code",
   "execution_count": null,
   "metadata": {},
   "outputs": [],
   "source": []
  },
  {
   "cell_type": "code",
   "execution_count": null,
   "metadata": {},
   "outputs": [],
   "source": []
  },
  {
   "cell_type": "code",
   "execution_count": null,
   "metadata": {},
   "outputs": [],
   "source": []
  },
  {
   "cell_type": "code",
   "execution_count": null,
   "metadata": {},
   "outputs": [],
   "source": []
  },
  {
   "cell_type": "code",
   "execution_count": null,
   "metadata": {},
   "outputs": [],
   "source": []
  },
  {
   "cell_type": "code",
   "execution_count": null,
   "metadata": {},
   "outputs": [],
   "source": []
  },
  {
   "cell_type": "code",
   "execution_count": null,
   "metadata": {},
   "outputs": [],
   "source": []
  },
  {
   "cell_type": "code",
   "execution_count": null,
   "metadata": {},
   "outputs": [],
   "source": []
  },
  {
   "cell_type": "code",
   "execution_count": null,
   "metadata": {},
   "outputs": [],
   "source": []
  },
  {
   "cell_type": "code",
   "execution_count": null,
   "metadata": {},
   "outputs": [],
   "source": []
  },
  {
   "cell_type": "code",
   "execution_count": null,
   "metadata": {},
   "outputs": [],
   "source": []
  },
  {
   "cell_type": "code",
   "execution_count": null,
   "metadata": {},
   "outputs": [],
   "source": []
  },
  {
   "cell_type": "code",
   "execution_count": null,
   "metadata": {},
   "outputs": [],
   "source": []
  },
  {
   "cell_type": "code",
   "execution_count": null,
   "metadata": {},
   "outputs": [],
   "source": []
  }
 ],
 "metadata": {
  "kernelspec": {
   "display_name": "Python 3.8.10 64-bit",
   "language": "python",
   "name": "python3"
  },
  "language_info": {
   "codemirror_mode": {
    "name": "ipython",
    "version": 3
   },
   "file_extension": ".py",
   "mimetype": "text/x-python",
   "name": "python",
   "nbconvert_exporter": "python",
   "pygments_lexer": "ipython3",
   "version": "3.8.10"
  },
  "orig_nbformat": 4,
  "vscode": {
   "interpreter": {
    "hash": "892b1dbae191cb403baa4bf29e539705d2bb168fb9a756bde180b5b738f682b9"
   }
  }
 },
 "nbformat": 4,
 "nbformat_minor": 2
}
